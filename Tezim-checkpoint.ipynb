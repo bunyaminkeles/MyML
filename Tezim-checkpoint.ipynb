{
 "cells": [
  {
   "cell_type": "markdown",
   "metadata": {},
   "source": [
    "# Logistic Regression"
   ]
  },
  {
   "cell_type": "code",
   "execution_count": 92,
   "metadata": {},
   "outputs": [],
   "source": [
    "import numpy as np\n",
    "import pandas as pd\n",
    "import seaborn as sns\n",
    "import matplotlib.pyplot as plt\n",
    "import pyreadstat\n",
    "\n",
    "%matplotlib inline\n",
    "#%matplotlib notebook\n",
    "plt.rcParams[\"figure.figsize\"] = (10,6)\n",
    "import warnings\n",
    "warnings.filterwarnings(\"ignore\")\n",
    "warnings.warn(\"this will not show\")\n",
    "pd.set_option('display.float_format', lambda x: '%.3f' % x)"
   ]
  },
  {
   "cell_type": "code",
   "execution_count": 177,
   "metadata": {},
   "outputs": [],
   "source": [
    "df = pd.read_excel(\"_TezVerisi.xlsx\")"
   ]
  },
  {
   "cell_type": "code",
   "execution_count": 178,
   "metadata": {},
   "outputs": [
    {
     "data": {
      "text/html": [
       "<div>\n",
       "<style scoped>\n",
       "    .dataframe tbody tr th:only-of-type {\n",
       "        vertical-align: middle;\n",
       "    }\n",
       "\n",
       "    .dataframe tbody tr th {\n",
       "        vertical-align: top;\n",
       "    }\n",
       "\n",
       "    .dataframe thead th {\n",
       "        text-align: right;\n",
       "    }\n",
       "</style>\n",
       "<table border=\"1\" class=\"dataframe\">\n",
       "  <thead>\n",
       "    <tr style=\"text-align: right;\">\n",
       "      <th></th>\n",
       "      <th>YasGrubu</th>\n",
       "      <th>Cinsiyet</th>\n",
       "      <th>MedeniDr</th>\n",
       "      <th>EğtDuzeyi</th>\n",
       "      <th>Meslek</th>\n",
       "      <th>ÇalışmaŞekli</th>\n",
       "      <th>ÇalışmaSaati</th>\n",
       "      <th>MesTecGrp</th>\n",
       "      <th>Bölüm</th>\n",
       "      <th>BlTec</th>\n",
       "      <th>...</th>\n",
       "      <th>ORTO2</th>\n",
       "      <th>ORTO3</th>\n",
       "      <th>ORTO4</th>\n",
       "      <th>ORTO5</th>\n",
       "      <th>GTO1</th>\n",
       "      <th>GTO2</th>\n",
       "      <th>GTO3</th>\n",
       "      <th>GTO4</th>\n",
       "      <th>GTO5</th>\n",
       "      <th>GTO6</th>\n",
       "    </tr>\n",
       "  </thead>\n",
       "  <tbody>\n",
       "    <tr>\n",
       "      <th>0</th>\n",
       "      <td>3</td>\n",
       "      <td>1</td>\n",
       "      <td>1</td>\n",
       "      <td>2</td>\n",
       "      <td>3</td>\n",
       "      <td>3</td>\n",
       "      <td>2</td>\n",
       "      <td>4</td>\n",
       "      <td>2</td>\n",
       "      <td>2</td>\n",
       "      <td>...</td>\n",
       "      <td>2.500</td>\n",
       "      <td>3.833</td>\n",
       "      <td>1.400</td>\n",
       "      <td>1.500</td>\n",
       "      <td>5.000</td>\n",
       "      <td>2.429</td>\n",
       "      <td>5.000</td>\n",
       "      <td>3.500</td>\n",
       "      <td>1.000</td>\n",
       "      <td>4.750</td>\n",
       "    </tr>\n",
       "    <tr>\n",
       "      <th>1</th>\n",
       "      <td>3</td>\n",
       "      <td>1</td>\n",
       "      <td>1</td>\n",
       "      <td>3</td>\n",
       "      <td>3</td>\n",
       "      <td>3</td>\n",
       "      <td>2</td>\n",
       "      <td>3</td>\n",
       "      <td>2</td>\n",
       "      <td>1</td>\n",
       "      <td>...</td>\n",
       "      <td>2.500</td>\n",
       "      <td>3.500</td>\n",
       "      <td>2.400</td>\n",
       "      <td>1.000</td>\n",
       "      <td>4.833</td>\n",
       "      <td>2.143</td>\n",
       "      <td>4.600</td>\n",
       "      <td>3.750</td>\n",
       "      <td>3.250</td>\n",
       "      <td>3.750</td>\n",
       "    </tr>\n",
       "    <tr>\n",
       "      <th>2</th>\n",
       "      <td>2</td>\n",
       "      <td>2</td>\n",
       "      <td>1</td>\n",
       "      <td>5</td>\n",
       "      <td>1</td>\n",
       "      <td>1</td>\n",
       "      <td>2</td>\n",
       "      <td>2</td>\n",
       "      <td>2</td>\n",
       "      <td>2</td>\n",
       "      <td>...</td>\n",
       "      <td>2.500</td>\n",
       "      <td>1.667</td>\n",
       "      <td>2.000</td>\n",
       "      <td>3.000</td>\n",
       "      <td>4.000</td>\n",
       "      <td>4.571</td>\n",
       "      <td>5.000</td>\n",
       "      <td>4.750</td>\n",
       "      <td>1.500</td>\n",
       "      <td>4.000</td>\n",
       "    </tr>\n",
       "    <tr>\n",
       "      <th>3</th>\n",
       "      <td>3</td>\n",
       "      <td>2</td>\n",
       "      <td>1</td>\n",
       "      <td>3</td>\n",
       "      <td>4</td>\n",
       "      <td>1</td>\n",
       "      <td>2</td>\n",
       "      <td>4</td>\n",
       "      <td>3</td>\n",
       "      <td>2</td>\n",
       "      <td>...</td>\n",
       "      <td>2.833</td>\n",
       "      <td>3.000</td>\n",
       "      <td>3.200</td>\n",
       "      <td>1.000</td>\n",
       "      <td>3.667</td>\n",
       "      <td>2.429</td>\n",
       "      <td>4.000</td>\n",
       "      <td>4.000</td>\n",
       "      <td>2.250</td>\n",
       "      <td>4.000</td>\n",
       "    </tr>\n",
       "    <tr>\n",
       "      <th>4</th>\n",
       "      <td>2</td>\n",
       "      <td>1</td>\n",
       "      <td>1</td>\n",
       "      <td>4</td>\n",
       "      <td>3</td>\n",
       "      <td>3</td>\n",
       "      <td>2</td>\n",
       "      <td>3</td>\n",
       "      <td>2</td>\n",
       "      <td>1</td>\n",
       "      <td>...</td>\n",
       "      <td>3.167</td>\n",
       "      <td>3.333</td>\n",
       "      <td>2.400</td>\n",
       "      <td>1.500</td>\n",
       "      <td>2.667</td>\n",
       "      <td>2.714</td>\n",
       "      <td>2.400</td>\n",
       "      <td>4.000</td>\n",
       "      <td>4.250</td>\n",
       "      <td>3.000</td>\n",
       "    </tr>\n",
       "  </tbody>\n",
       "</table>\n",
       "<p>5 rows × 29 columns</p>\n",
       "</div>"
      ],
      "text/plain": [
       "   YasGrubu  Cinsiyet  MedeniDr  EğtDuzeyi  Meslek  ÇalışmaŞekli  \\\n",
       "0         3         1         1          2       3             3   \n",
       "1         3         1         1          3       3             3   \n",
       "2         2         2         1          5       1             1   \n",
       "3         3         2         1          3       4             1   \n",
       "4         2         1         1          4       3             3   \n",
       "\n",
       "   ÇalışmaSaati  MesTecGrp  Bölüm  BlTec  ...  ORTO2  ORTO3  ORTO4  ORTO5  \\\n",
       "0             2          4      2      2  ...  2.500  3.833  1.400  1.500   \n",
       "1             2          3      2      1  ...  2.500  3.500  2.400  1.000   \n",
       "2             2          2      2      2  ...  2.500  1.667  2.000  3.000   \n",
       "3             2          4      3      2  ...  2.833  3.000  3.200  1.000   \n",
       "4             2          3      2      1  ...  3.167  3.333  2.400  1.500   \n",
       "\n",
       "   GTO1  GTO2  GTO3  GTO4  GTO5  GTO6  \n",
       "0 5.000 2.429 5.000 3.500 1.000 4.750  \n",
       "1 4.833 2.143 4.600 3.750 3.250 3.750  \n",
       "2 4.000 4.571 5.000 4.750 1.500 4.000  \n",
       "3 3.667 2.429 4.000 4.000 2.250 4.000  \n",
       "4 2.667 2.714 2.400 4.000 4.250 3.000  \n",
       "\n",
       "[5 rows x 29 columns]"
      ]
     },
     "execution_count": 178,
     "metadata": {},
     "output_type": "execute_result"
    }
   ],
   "source": [
    "df.head()"
   ]
  },
  {
   "cell_type": "markdown",
   "metadata": {},
   "source": [
    "## Exploratory Data Analysis and Visualization"
   ]
  },
  {
   "cell_type": "code",
   "execution_count": 179,
   "metadata": {},
   "outputs": [
    {
     "name": "stdout",
     "output_type": "stream",
     "text": [
      "<class 'pandas.core.frame.DataFrame'>\n",
      "RangeIndex: 292 entries, 0 to 291\n",
      "Data columns (total 29 columns):\n",
      " #   Column                      Non-Null Count  Dtype  \n",
      "---  ------                      --------------  -----  \n",
      " 0   YasGrubu                    292 non-null    int64  \n",
      " 1   Cinsiyet                    292 non-null    int64  \n",
      " 2   MedeniDr                    292 non-null    int64  \n",
      " 3   EğtDuzeyi                   292 non-null    int64  \n",
      " 4   Meslek                      292 non-null    int64  \n",
      " 5   ÇalışmaŞekli                292 non-null    int64  \n",
      " 6   ÇalışmaSaati                292 non-null    int64  \n",
      " 7   MesTecGrp                   292 non-null    int64  \n",
      " 8   Bölüm                       292 non-null    int64  \n",
      " 9   BlTec                       292 non-null    int64  \n",
      " 10  RpEğtAlmaDurumu             292 non-null    int64  \n",
      " 11  OlayaDahilOlma              292 non-null    int64  \n",
      " 12  OlayaTanıkOlma              292 non-null    int64  \n",
      " 13  RaprlamaYaptınmı            292 non-null    int64  \n",
      " 14  GRS_Farkındalığı            292 non-null    int64  \n",
      " 15  GRS_NasılYaplıacağınıBilme  292 non-null    int64  \n",
      " 16  OREO1                       292 non-null    float64\n",
      " 17  OREO2                       292 non-null    float64\n",
      " 18  ORTO1                       292 non-null    float64\n",
      " 19  ORTO2                       292 non-null    float64\n",
      " 20  ORTO3                       292 non-null    float64\n",
      " 21  ORTO4                       292 non-null    float64\n",
      " 22  ORTO5                       292 non-null    float64\n",
      " 23  GTO1                        292 non-null    float64\n",
      " 24  GTO2                        292 non-null    float64\n",
      " 25  GTO3                        292 non-null    float64\n",
      " 26  GTO4                        292 non-null    float64\n",
      " 27  GTO5                        292 non-null    float64\n",
      " 28  GTO6                        292 non-null    float64\n",
      "dtypes: float64(13), int64(16)\n",
      "memory usage: 66.3 KB\n"
     ]
    }
   ],
   "source": [
    "df.info()"
   ]
  },
  {
   "cell_type": "code",
   "execution_count": 180,
   "metadata": {},
   "outputs": [
    {
     "data": {
      "text/plain": [
       "Index(['YasGrubu', 'Cinsiyet', 'MedeniDr', 'EğtDuzeyi', 'Meslek',\n",
       "       'ÇalışmaŞekli', 'ÇalışmaSaati', 'MesTecGrp', 'Bölüm', 'BlTec',\n",
       "       'RpEğtAlmaDurumu', 'OlayaDahilOlma', 'OlayaTanıkOlma',\n",
       "       'RaprlamaYaptınmı', 'GRS_Farkındalığı', 'GRS_NasılYaplıacağınıBilme',\n",
       "       'OREO1', 'OREO2', 'ORTO1', 'ORTO2', 'ORTO3', 'ORTO4', 'ORTO5', 'GTO1',\n",
       "       'GTO2', 'GTO3', 'GTO4', 'GTO5', 'GTO6'],\n",
       "      dtype='object')"
      ]
     },
     "execution_count": 180,
     "metadata": {},
     "output_type": "execute_result"
    }
   ],
   "source": [
    "df.columns"
   ]
  },
  {
   "cell_type": "code",
   "execution_count": 181,
   "metadata": {},
   "outputs": [
    {
     "data": {
      "text/plain": [
       "<AxesSubplot:>"
      ]
     },
     "execution_count": 181,
     "metadata": {},
     "output_type": "execute_result"
    },
    {
     "data": {
      "image/png": "[encoded data removed]",
      "text/plain": [
       "<Figure size 720x432 with 2 Axes>"
      ]
     },
     "metadata": {
      "needs_background": "light"
     },
     "output_type": "display_data"
    }
   ],
   "source": [
    "sns.heatmap(df_number.corr(), annot=True)"
   ]
  },
  {
   "cell_type": "code",
   "execution_count": 182,
   "metadata": {},
   "outputs": [
    {
     "data": {
      "text/plain": [
       "False"
      ]
     },
     "execution_count": 182,
     "metadata": {},
     "output_type": "execute_result"
    }
   ],
   "source": [
    "df_number.corr()[(df_number.corr()>= 0.9) & (df_number.corr() < 1)].any().any()"
   ]
  },
  {
   "cell_type": "code",
   "execution_count": 183,
   "metadata": {},
   "outputs": [
    {
     "data": {
      "text/plain": [
       "0    204\n",
       "1     88\n",
       "Name: RaprlamaYaptınmı, dtype: int64"
      ]
     },
     "execution_count": 183,
     "metadata": {},
     "output_type": "execute_result"
    }
   ],
   "source": [
    "df['RaprlamaYaptınmı'].value_counts()"
   ]
  },
  {
   "cell_type": "markdown",
   "metadata": {},
   "source": [
    "## Train | Test Split and Scaling"
   ]
  },
  {
   "cell_type": "code",
   "execution_count": 184,
   "metadata": {},
   "outputs": [],
   "source": [
    "X = df.drop('RaprlamaYaptınmı',axis=1)\n",
    "y = df['RaprlamaYaptınmı']"
   ]
  },
  {
   "cell_type": "code",
   "execution_count": 185,
   "metadata": {},
   "outputs": [],
   "source": [
    "from sklearn.model_selection import train_test_split\n",
    "from sklearn.preprocessing import StandardScaler"
   ]
  },
  {
   "cell_type": "code",
   "execution_count": 186,
   "metadata": {},
   "outputs": [],
   "source": [
    "X_train, X_test, y_train, y_test = train_test_split(X, y, test_size=0.2, random_state=101)"
   ]
  },
  {
   "cell_type": "code",
   "execution_count": 187,
   "metadata": {},
   "outputs": [],
   "source": [
    "scaler = StandardScaler()"
   ]
  },
  {
   "cell_type": "code",
   "execution_count": 188,
   "metadata": {},
   "outputs": [],
   "source": [
    "X_train_scaled = scaler.fit_transform(X_train)\n",
    "X_test_scaled = scaler.transform(X_test)"
   ]
  },
  {
   "cell_type": "markdown",
   "metadata": {},
   "source": [
    "## Modelling"
   ]
  },
  {
   "cell_type": "code",
   "execution_count": 189,
   "metadata": {},
   "outputs": [],
   "source": [
    "from sklearn.linear_model import LogisticRegression"
   ]
  },
  {
   "cell_type": "markdown",
   "metadata": {},
   "source": [
    "https://scikit-learn.org/stable/modules/generated/sklearn.linear_model.LogisticRegression.html"
   ]
  },
  {
   "cell_type": "code",
   "execution_count": 25,
   "metadata": {},
   "outputs": [],
   "source": [
    "#help(LogisticRegression)"
   ]
  },
  {
   "cell_type": "code",
   "execution_count": 190,
   "metadata": {},
   "outputs": [],
   "source": [
    "log_model = LogisticRegression()"
   ]
  },
  {
   "cell_type": "code",
   "execution_count": 191,
   "metadata": {},
   "outputs": [
    {
     "data": {
      "text/plain": [
       "LogisticRegression()"
      ]
     },
     "execution_count": 191,
     "metadata": {},
     "output_type": "execute_result"
    }
   ],
   "source": [
    "log_model.fit(X_train_scaled, y_train)"
   ]
  },
  {
   "cell_type": "code",
   "execution_count": 192,
   "metadata": {},
   "outputs": [
    {
     "data": {
      "text/plain": [
       "array([[-0.89009698,  0.02255647,  0.05901045,  0.41078903,  0.90498044,\n",
       "        -0.47190272,  0.21794041,  0.24354971,  0.16537442,  0.06150923,\n",
       "         1.51310556, -0.11549814,  0.55997666,  0.14589793,  0.429017  ,\n",
       "        -1.15108683, -1.81990217, -0.41224857, -0.07082356, -0.56612715,\n",
       "        -0.25902007,  0.76923063, -0.76854737,  0.77551001, -0.03809631,\n",
       "        -0.74542103,  0.7134756 ,  0.61423142]])"
      ]
     },
     "execution_count": 192,
     "metadata": {},
     "output_type": "execute_result"
    }
   ],
   "source": [
    "log_model.coef_"
   ]
  },
  {
   "cell_type": "code",
   "execution_count": 193,
   "metadata": {
    "scrolled": true
   },
   "outputs": [
    {
     "data": {
      "text/plain": [
       "array([-3.23831935])"
      ]
     },
     "execution_count": 193,
     "metadata": {},
     "output_type": "execute_result"
    }
   ],
   "source": [
    "log_model.intercept_"
   ]
  },
  {
   "cell_type": "code",
   "execution_count": 194,
   "metadata": {},
   "outputs": [
    {
     "data": {
      "text/plain": [
       "array([0, 1, 0, 0, 0, 0, 0, 0, 0, 0, 0, 0, 0, 0, 0, 0, 1, 0, 0, 0, 1, 1,\n",
       "       0, 0, 1, 0, 0, 0, 0, 1, 0, 0, 0, 1, 1, 0, 0, 1, 0, 0, 0, 0, 1, 1,\n",
       "       0, 0, 0, 0, 0, 0, 0, 1, 0, 1, 1, 1, 1, 1, 0], dtype=int64)"
      ]
     },
     "execution_count": 194,
     "metadata": {},
     "output_type": "execute_result"
    }
   ],
   "source": [
    "y_pred = log_model.predict(X_test_scaled)\n",
    "y_pred"
   ]
  },
  {
   "cell_type": "code",
   "execution_count": 195,
   "metadata": {
    "collapsed": true,
    "jupyter": {
     "outputs_hidden": true
    },
    "tags": []
   },
   "outputs": [
    {
     "data": {
      "text/plain": [
       "array([[9.14221456e-01, 8.57785440e-02],\n",
       "       [2.24245109e-01, 7.75754891e-01],\n",
       "       [6.78221157e-01, 3.21778843e-01],\n",
       "       [9.99987238e-01, 1.27617655e-05],\n",
       "       [9.87658826e-01, 1.23411743e-02],\n",
       "       [9.99971388e-01, 2.86115769e-05],\n",
       "       [7.07925700e-01, 2.92074300e-01],\n",
       "       [9.99232957e-01, 7.67042716e-04],\n",
       "       [9.99729955e-01, 2.70044937e-04],\n",
       "       [9.99518693e-01, 4.81307412e-04],\n",
       "       [9.58427034e-01, 4.15729664e-02],\n",
       "       [9.99236014e-01, 7.63986325e-04],\n",
       "       [9.41896309e-01, 5.81036914e-02],\n",
       "       [9.99999785e-01, 2.15011177e-07],\n",
       "       [9.13095938e-01, 8.69040623e-02],\n",
       "       [9.99985455e-01, 1.45445407e-05],\n",
       "       [1.63259456e-02, 9.83674054e-01],\n",
       "       [9.87917412e-01, 1.20825877e-02],\n",
       "       [9.02043726e-01, 9.79562744e-02],\n",
       "       [7.49995744e-01, 2.50004256e-01],\n",
       "       [1.87805380e-01, 8.12194620e-01],\n",
       "       [4.78058409e-03, 9.95219416e-01],\n",
       "       [9.42395764e-01, 5.76042356e-02],\n",
       "       [9.81349781e-01, 1.86502188e-02],\n",
       "       [1.32824134e-01, 8.67175866e-01],\n",
       "       [9.99538687e-01, 4.61312675e-04],\n",
       "       [9.91188711e-01, 8.81128938e-03],\n",
       "       [6.50607608e-01, 3.49392392e-01],\n",
       "       [9.98435226e-01, 1.56477376e-03],\n",
       "       [9.72224602e-02, 9.02777540e-01],\n",
       "       [9.45655033e-01, 5.43449673e-02],\n",
       "       [9.99615129e-01, 3.84871134e-04],\n",
       "       [9.99097484e-01, 9.02516098e-04],\n",
       "       [1.44193807e-01, 8.55806193e-01],\n",
       "       [1.91709972e-01, 8.08290028e-01],\n",
       "       [9.83819015e-01, 1.61809850e-02],\n",
       "       [9.62096914e-01, 3.79030859e-02],\n",
       "       [3.26586604e-01, 6.73413396e-01],\n",
       "       [9.99956847e-01, 4.31532911e-05],\n",
       "       [9.99779722e-01, 2.20278389e-04],\n",
       "       [9.99971994e-01, 2.80060548e-05],\n",
       "       [9.85885028e-01, 1.41149723e-02],\n",
       "       [8.20552236e-03, 9.91794478e-01],\n",
       "       [3.20257506e-01, 6.79742494e-01],\n",
       "       [9.99929229e-01, 7.07711166e-05],\n",
       "       [6.55310815e-01, 3.44689185e-01],\n",
       "       [6.80378304e-01, 3.19621696e-01],\n",
       "       [9.98517200e-01, 1.48279987e-03],\n",
       "       [9.99546244e-01, 4.53756335e-04],\n",
       "       [9.12030272e-01, 8.79697284e-02],\n",
       "       [9.98717388e-01, 1.28261226e-03],\n",
       "       [3.04145195e-02, 9.69585481e-01],\n",
       "       [9.96928699e-01, 3.07130143e-03],\n",
       "       [3.18242381e-03, 9.96817576e-01],\n",
       "       [2.58246837e-01, 7.41753163e-01],\n",
       "       [4.92920900e-03, 9.95070791e-01],\n",
       "       [1.60964333e-01, 8.39035667e-01],\n",
       "       [1.03573992e-02, 9.89642601e-01],\n",
       "       [9.96068583e-01, 3.93141747e-03]])"
      ]
     },
     "execution_count": 195,
     "metadata": {},
     "output_type": "execute_result"
    }
   ],
   "source": [
    "y_pred_proba = log_model.predict_proba(X_test_scaled)\n",
    "y_pred_proba"
   ]
  },
  {
   "cell_type": "code",
   "execution_count": 33,
   "metadata": {},
   "outputs": [],
   "source": [
    "# X_test + y_yest + y_pred_proba + y_pred"
   ]
  },
  {
   "cell_type": "markdown",
   "metadata": {},
   "source": [
    "## Model Performance on Classification Tasks"
   ]
  },
  {
   "cell_type": "code",
   "execution_count": 196,
   "metadata": {},
   "outputs": [],
   "source": [
    "from sklearn.metrics import confusion_matrix, classification_report, plot_confusion_matrix"
   ]
  },
  {
   "cell_type": "code",
   "execution_count": 197,
   "metadata": {},
   "outputs": [
    {
     "data": {
      "text/plain": [
       "array([[38,  1],\n",
       "       [ 4, 16]], dtype=int64)"
      ]
     },
     "execution_count": 197,
     "metadata": {},
     "output_type": "execute_result"
    }
   ],
   "source": [
    "confusion_matrix(y_test,y_pred)"
   ]
  },
  {
   "cell_type": "code",
   "execution_count": 199,
   "metadata": {},
   "outputs": [
    {
     "name": "stdout",
     "output_type": "stream",
     "text": [
      "              precision    recall  f1-score   support\n",
      "\n",
      "           0       0.90      0.97      0.94        39\n",
      "           1       0.94      0.80      0.86        20\n",
      "\n",
      "    accuracy                           0.92        59\n",
      "   macro avg       0.92      0.89      0.90        59\n",
      "weighted avg       0.92      0.92      0.91        59\n",
      "\n"
     ]
    }
   ],
   "source": [
    "print(classification_report(y_test,y_pred))"
   ]
  },
  {
   "cell_type": "code",
   "execution_count": 200,
   "metadata": {},
   "outputs": [],
   "source": [
    "from sklearn.metrics import precision_score, recall_score, accuracy_score, f1_score"
   ]
  },
  {
   "cell_type": "code",
   "execution_count": 201,
   "metadata": {},
   "outputs": [
    {
     "data": {
      "text/plain": [
       "0.9152542372881356"
      ]
     },
     "execution_count": 201,
     "metadata": {},
     "output_type": "execute_result"
    }
   ],
   "source": [
    "accuracy_score(y_test,y_pred)"
   ]
  },
  {
   "cell_type": "code",
   "execution_count": 202,
   "metadata": {},
   "outputs": [
    {
     "data": {
      "text/plain": [
       "0.9152542372881356"
      ]
     },
     "execution_count": 202,
     "metadata": {},
     "output_type": "execute_result"
    }
   ],
   "source": [
    "log_model.score(X_test_scaled, y_test)"
   ]
  },
  {
   "cell_type": "code",
   "execution_count": 203,
   "metadata": {},
   "outputs": [
    {
     "data": {
      "text/plain": [
       "0.9411764705882353"
      ]
     },
     "execution_count": 203,
     "metadata": {},
     "output_type": "execute_result"
    }
   ],
   "source": [
    "precision_score(y_test, y_pred)"
   ]
  },
  {
   "cell_type": "code",
   "execution_count": 204,
   "metadata": {},
   "outputs": [
    {
     "data": {
      "text/plain": [
       "0.8"
      ]
     },
     "execution_count": 204,
     "metadata": {},
     "output_type": "execute_result"
    }
   ],
   "source": [
    "recall_score(y_test, y_pred)"
   ]
  },
  {
   "cell_type": "code",
   "execution_count": 205,
   "metadata": {},
   "outputs": [
    {
     "data": {
      "text/plain": [
       "0.9133879642354218"
      ]
     },
     "execution_count": 205,
     "metadata": {},
     "output_type": "execute_result"
    }
   ],
   "source": [
    "f1_score(y_test,y_pred, average = \"weighted\")"
   ]
  },
  {
   "cell_type": "markdown",
   "metadata": {},
   "source": [
    "## Cross Validate"
   ]
  },
  {
   "cell_type": "code",
   "execution_count": 206,
   "metadata": {},
   "outputs": [],
   "source": [
    "from sklearn.model_selection import cross_val_score, cross_validate"
   ]
  },
  {
   "cell_type": "code",
   "execution_count": 207,
   "metadata": {},
   "outputs": [
    {
     "name": "stdout",
     "output_type": "stream",
     "text": [
      "Cross-Validation Mean of Accuracy Scores 0.9184782608695652\n",
      "\n",
      "[0.91666667 0.91666667 0.91666667 0.91304348 0.91304348 0.86956522\n",
      " 0.95652174 0.86956522 0.95652174 0.95652174]\n"
     ]
    }
   ],
   "source": [
    "model = LogisticRegression()\n",
    "\n",
    "scores = cross_val_score(model, X_train_scaled, y_train, cv=10)\n",
    "print('Cross-Validation Mean of Accuracy Scores', scores.mean())\n",
    "print(\"\")\n",
    "print(scores)"
   ]
  },
  {
   "cell_type": "code",
   "execution_count": 208,
   "metadata": {},
   "outputs": [
    {
     "name": "stdout",
     "output_type": "stream",
     "text": [
      "Cross-Validation Mean of f1_weighted Scores 0.9174762409670961\n",
      "\n",
      "[0.91203704 0.91666667 0.91927083 0.90835465 0.91304348 0.86652478\n",
      " 0.95726975 0.86652478 0.95753522 0.95753522]\n"
     ]
    }
   ],
   "source": [
    "model = LogisticRegression()\n",
    "\n",
    "scores = cross_val_score(model, X_train_scaled, y_train, cv=10, scoring=\"f1_weighted\")\n",
    "print('Cross-Validation Mean of f1_weighted Scores', scores.mean())\n",
    "print(\"\")\n",
    "print(scores)"
   ]
  },
  {
   "cell_type": "code",
   "execution_count": 209,
   "metadata": {},
   "outputs": [
    {
     "data": {
      "text/html": [
       "<div>\n",
       "<style scoped>\n",
       "    .dataframe tbody tr th:only-of-type {\n",
       "        vertical-align: middle;\n",
       "    }\n",
       "\n",
       "    .dataframe tbody tr th {\n",
       "        vertical-align: top;\n",
       "    }\n",
       "\n",
       "    .dataframe thead th {\n",
       "        text-align: right;\n",
       "    }\n",
       "</style>\n",
       "<table border=\"1\" class=\"dataframe\">\n",
       "  <thead>\n",
       "    <tr style=\"text-align: right;\">\n",
       "      <th></th>\n",
       "      <th>fit_time</th>\n",
       "      <th>score_time</th>\n",
       "      <th>test_accuracy</th>\n",
       "      <th>test_precision_weighted</th>\n",
       "      <th>test_recall_weighted</th>\n",
       "      <th>test_f1_weighted</th>\n",
       "    </tr>\n",
       "  </thead>\n",
       "  <tbody>\n",
       "    <tr>\n",
       "      <th>1</th>\n",
       "      <td>0.014</td>\n",
       "      <td>0.006</td>\n",
       "      <td>0.917</td>\n",
       "      <td>0.925</td>\n",
       "      <td>0.917</td>\n",
       "      <td>0.912</td>\n",
       "    </tr>\n",
       "    <tr>\n",
       "      <th>2</th>\n",
       "      <td>0.012</td>\n",
       "      <td>0.007</td>\n",
       "      <td>0.917</td>\n",
       "      <td>0.917</td>\n",
       "      <td>0.917</td>\n",
       "      <td>0.917</td>\n",
       "    </tr>\n",
       "    <tr>\n",
       "      <th>3</th>\n",
       "      <td>0.014</td>\n",
       "      <td>0.007</td>\n",
       "      <td>0.917</td>\n",
       "      <td>0.935</td>\n",
       "      <td>0.917</td>\n",
       "      <td>0.919</td>\n",
       "    </tr>\n",
       "    <tr>\n",
       "      <th>4</th>\n",
       "      <td>0.013</td>\n",
       "      <td>0.006</td>\n",
       "      <td>0.913</td>\n",
       "      <td>0.923</td>\n",
       "      <td>0.913</td>\n",
       "      <td>0.908</td>\n",
       "    </tr>\n",
       "    <tr>\n",
       "      <th>5</th>\n",
       "      <td>0.026</td>\n",
       "      <td>0.009</td>\n",
       "      <td>0.913</td>\n",
       "      <td>0.913</td>\n",
       "      <td>0.913</td>\n",
       "      <td>0.913</td>\n",
       "    </tr>\n",
       "    <tr>\n",
       "      <th>6</th>\n",
       "      <td>0.014</td>\n",
       "      <td>0.008</td>\n",
       "      <td>0.870</td>\n",
       "      <td>0.867</td>\n",
       "      <td>0.870</td>\n",
       "      <td>0.867</td>\n",
       "    </tr>\n",
       "    <tr>\n",
       "      <th>7</th>\n",
       "      <td>0.015</td>\n",
       "      <td>0.022</td>\n",
       "      <td>0.957</td>\n",
       "      <td>0.962</td>\n",
       "      <td>0.957</td>\n",
       "      <td>0.957</td>\n",
       "    </tr>\n",
       "    <tr>\n",
       "      <th>8</th>\n",
       "      <td>0.027</td>\n",
       "      <td>0.010</td>\n",
       "      <td>0.870</td>\n",
       "      <td>0.867</td>\n",
       "      <td>0.870</td>\n",
       "      <td>0.867</td>\n",
       "    </tr>\n",
       "    <tr>\n",
       "      <th>9</th>\n",
       "      <td>0.017</td>\n",
       "      <td>0.007</td>\n",
       "      <td>0.957</td>\n",
       "      <td>0.963</td>\n",
       "      <td>0.957</td>\n",
       "      <td>0.958</td>\n",
       "    </tr>\n",
       "    <tr>\n",
       "      <th>10</th>\n",
       "      <td>0.009</td>\n",
       "      <td>0.000</td>\n",
       "      <td>0.957</td>\n",
       "      <td>0.963</td>\n",
       "      <td>0.957</td>\n",
       "      <td>0.958</td>\n",
       "    </tr>\n",
       "  </tbody>\n",
       "</table>\n",
       "</div>"
      ],
      "text/plain": [
       "    fit_time  score_time  test_accuracy  test_precision_weighted  \\\n",
       "1      0.014       0.006          0.917                    0.925   \n",
       "2      0.012       0.007          0.917                    0.917   \n",
       "3      0.014       0.007          0.917                    0.935   \n",
       "4      0.013       0.006          0.913                    0.923   \n",
       "5      0.026       0.009          0.913                    0.913   \n",
       "6      0.014       0.008          0.870                    0.867   \n",
       "7      0.015       0.022          0.957                    0.962   \n",
       "8      0.027       0.010          0.870                    0.867   \n",
       "9      0.017       0.007          0.957                    0.963   \n",
       "10     0.009       0.000          0.957                    0.963   \n",
       "\n",
       "    test_recall_weighted  test_f1_weighted  \n",
       "1                  0.917             0.912  \n",
       "2                  0.917             0.917  \n",
       "3                  0.917             0.919  \n",
       "4                  0.913             0.908  \n",
       "5                  0.913             0.913  \n",
       "6                  0.870             0.867  \n",
       "7                  0.957             0.957  \n",
       "8                  0.870             0.867  \n",
       "9                  0.957             0.958  \n",
       "10                 0.957             0.958  "
      ]
     },
     "execution_count": 209,
     "metadata": {},
     "output_type": "execute_result"
    }
   ],
   "source": [
    "model = LogisticRegression()\n",
    "\n",
    "scores = cross_validate(model, X_train_scaled, y_train, scoring = ['accuracy', 'precision_weighted','recall_weighted',\n",
    "                                                                   'f1_weighted'], cv = 10)\n",
    "df_scores = pd.DataFrame(scores, index = range(1, 11))\n",
    "df_scores"
   ]
  },
  {
   "cell_type": "code",
   "execution_count": 210,
   "metadata": {},
   "outputs": [
    {
     "data": {
      "text/plain": [
       "test_accuracy             0.918\n",
       "test_precision_weighted   0.924\n",
       "test_recall_weighted      0.918\n",
       "test_f1_weighted          0.917\n",
       "dtype: float64"
      ]
     },
     "execution_count": 210,
     "metadata": {},
     "output_type": "execute_result"
    }
   ],
   "source": [
    "df_scores.mean()[2:]"
   ]
  },
  {
   "cell_type": "markdown",
   "metadata": {},
   "source": [
    "## ROC (Receiver Operating Curve) and AUC (Area Under Curve)"
   ]
  },
  {
   "cell_type": "markdown",
   "metadata": {},
   "source": [
    "Purpose of ROC Curve:\n",
    "    1. Analysing the strength/predictive power of a classifier.\n",
    "    2. Determining optimal threshold.\n",
    "    3. Comparing two models (using Area Under the Curve)."
   ]
  },
  {
   "cell_type": "markdown",
   "metadata": {},
   "source": [
    "AUC represents a degree or measure of separability. It tells us how much the model is capable of distinguishing between classes. Higher the AUC, better the model is at predicting the probability of class YES higher than the probability of class NO."
   ]
  },
  {
   "cell_type": "markdown",
   "metadata": {},
   "source": [
    "The ROC Curve was first used during World War II for the analysis of radar signals. After the attack on Pearl Harbor, the US army began new research to improve the rate of detection of Japanese aircraft from their radar signals. Needless to say, they did not want to miss any of them. Neither did they wish to waste their resources on false alarms. They measured the ability of a radar receiver operator to make these predictions called the Receiver Operating Characteristic. That is the origin of the name. The purpose of the curve was similar to how we use it to improve our machine learning models now. The aim was to analyse the predictive power of the predictor in ensuring the detection of as many true positives as possible while minimizing false positives.\n",
    "\n",
    "https://towardsdatascience.com/demystifying-roc-curves-df809474529a"
   ]
  },
  {
   "cell_type": "code",
   "execution_count": 211,
   "metadata": {},
   "outputs": [],
   "source": [
    "from sklearn.metrics import plot_roc_curve, plot_precision_recall_curve, roc_auc_score, auc, roc_curve"
   ]
  },
  {
   "cell_type": "code",
   "execution_count": 212,
   "metadata": {},
   "outputs": [
    {
     "data": {
      "image/png": "[encoded data removed]",
      "text/plain": [
       "<Figure size 720x432 with 1 Axes>"
      ]
     },
     "metadata": {
      "needs_background": "light"
     },
     "output_type": "display_data"
    }
   ],
   "source": [
    "plot_roc_curve(log_model, X_test_scaled, y_test, response_method='auto');"
   ]
  },
  {
   "cell_type": "code",
   "execution_count": 213,
   "metadata": {},
   "outputs": [
    {
     "data": {
      "text/plain": [
       "0.9576923076923077"
      ]
     },
     "execution_count": 213,
     "metadata": {},
     "output_type": "execute_result"
    }
   ],
   "source": [
    "roc_auc_score(y_test, y_pred_proba[:,1])"
   ]
  },
  {
   "cell_type": "code",
   "execution_count": 214,
   "metadata": {},
   "outputs": [
    {
     "data": {
      "text/plain": [
       "0.8871794871794871"
      ]
     },
     "execution_count": 214,
     "metadata": {},
     "output_type": "execute_result"
    }
   ],
   "source": [
    "roc_auc_score(y_test, y_pred)"
   ]
  },
  {
   "cell_type": "code",
   "execution_count": 215,
   "metadata": {},
   "outputs": [],
   "source": [
    "fp_rate, tp_rate, thresholds = roc_curve(y_test, y_pred_proba[:,1])"
   ]
  },
  {
   "cell_type": "code",
   "execution_count": 216,
   "metadata": {},
   "outputs": [
    {
     "data": {
      "text/plain": [
       "0.29207429982412014"
      ]
     },
     "execution_count": 216,
     "metadata": {},
     "output_type": "execute_result"
    }
   ],
   "source": [
    "optimal_idx = np.argmax(tp_rate - fp_rate)\n",
    "optimal_threshold = thresholds[optimal_idx]\n",
    "optimal_threshold"
   ]
  },
  {
   "cell_type": "code",
   "execution_count": 217,
   "metadata": {},
   "outputs": [
    {
     "data": {
      "text/html": [
       "<div>\n",
       "<style scoped>\n",
       "    .dataframe tbody tr th:only-of-type {\n",
       "        vertical-align: middle;\n",
       "    }\n",
       "\n",
       "    .dataframe tbody tr th {\n",
       "        vertical-align: top;\n",
       "    }\n",
       "\n",
       "    .dataframe thead th {\n",
       "        text-align: right;\n",
       "    }\n",
       "</style>\n",
       "<table border=\"1\" class=\"dataframe\">\n",
       "  <thead>\n",
       "    <tr style=\"text-align: right;\">\n",
       "      <th></th>\n",
       "      <th>fp_rate</th>\n",
       "      <th>tp_rate</th>\n",
       "      <th>thresholds</th>\n",
       "    </tr>\n",
       "  </thead>\n",
       "  <tbody>\n",
       "    <tr>\n",
       "      <th>0</th>\n",
       "      <td>0.000</td>\n",
       "      <td>0.000</td>\n",
       "      <td>1.997</td>\n",
       "    </tr>\n",
       "    <tr>\n",
       "      <th>1</th>\n",
       "      <td>0.000</td>\n",
       "      <td>0.050</td>\n",
       "      <td>0.997</td>\n",
       "    </tr>\n",
       "    <tr>\n",
       "      <th>2</th>\n",
       "      <td>0.000</td>\n",
       "      <td>0.500</td>\n",
       "      <td>0.856</td>\n",
       "    </tr>\n",
       "    <tr>\n",
       "      <th>3</th>\n",
       "      <td>0.026</td>\n",
       "      <td>0.500</td>\n",
       "      <td>0.839</td>\n",
       "    </tr>\n",
       "    <tr>\n",
       "      <th>4</th>\n",
       "      <td>0.026</td>\n",
       "      <td>0.800</td>\n",
       "      <td>0.673</td>\n",
       "    </tr>\n",
       "    <tr>\n",
       "      <th>5</th>\n",
       "      <td>0.077</td>\n",
       "      <td>0.800</td>\n",
       "      <td>0.345</td>\n",
       "    </tr>\n",
       "    <tr>\n",
       "      <th>6</th>\n",
       "      <td>0.077</td>\n",
       "      <td>0.850</td>\n",
       "      <td>0.322</td>\n",
       "    </tr>\n",
       "    <tr>\n",
       "      <th>7</th>\n",
       "      <td>0.103</td>\n",
       "      <td>0.850</td>\n",
       "      <td>0.320</td>\n",
       "    </tr>\n",
       "    <tr>\n",
       "      <th>8</th>\n",
       "      <td>0.103</td>\n",
       "      <td>0.900</td>\n",
       "      <td>0.292</td>\n",
       "    </tr>\n",
       "    <tr>\n",
       "      <th>9</th>\n",
       "      <td>0.179</td>\n",
       "      <td>0.900</td>\n",
       "      <td>0.088</td>\n",
       "    </tr>\n",
       "    <tr>\n",
       "      <th>10</th>\n",
       "      <td>0.179</td>\n",
       "      <td>0.950</td>\n",
       "      <td>0.087</td>\n",
       "    </tr>\n",
       "    <tr>\n",
       "      <th>11</th>\n",
       "      <td>0.333</td>\n",
       "      <td>0.950</td>\n",
       "      <td>0.038</td>\n",
       "    </tr>\n",
       "    <tr>\n",
       "      <th>12</th>\n",
       "      <td>0.333</td>\n",
       "      <td>1.000</td>\n",
       "      <td>0.019</td>\n",
       "    </tr>\n",
       "    <tr>\n",
       "      <th>13</th>\n",
       "      <td>1.000</td>\n",
       "      <td>1.000</td>\n",
       "      <td>0.000</td>\n",
       "    </tr>\n",
       "  </tbody>\n",
       "</table>\n",
       "</div>"
      ],
      "text/plain": [
       "    fp_rate  tp_rate  thresholds\n",
       "0     0.000    0.000       1.997\n",
       "1     0.000    0.050       0.997\n",
       "2     0.000    0.500       0.856\n",
       "3     0.026    0.500       0.839\n",
       "4     0.026    0.800       0.673\n",
       "5     0.077    0.800       0.345\n",
       "6     0.077    0.850       0.322\n",
       "7     0.103    0.850       0.320\n",
       "8     0.103    0.900       0.292\n",
       "9     0.179    0.900       0.088\n",
       "10    0.179    0.950       0.087\n",
       "11    0.333    0.950       0.038\n",
       "12    0.333    1.000       0.019\n",
       "13    1.000    1.000       0.000"
      ]
     },
     "execution_count": 217,
     "metadata": {},
     "output_type": "execute_result"
    }
   ],
   "source": [
    "roc_curve = {\"fp_rate\":fp_rate, \"tp_rate\":tp_rate, \"thresholds\":thresholds}\n",
    "df_roc_curve = pd.DataFrame(roc_curve)\n",
    "df_roc_curve"
   ]
  },
  {
   "cell_type": "code",
   "execution_count": 218,
   "metadata": {},
   "outputs": [
    {
     "data": {
      "text/plain": [
       "0.29207429982412014"
      ]
     },
     "execution_count": 218,
     "metadata": {},
     "output_type": "execute_result"
    }
   ],
   "source": [
    "optimal_idx = np.argmax(df_roc_curve.tp_rate - df_roc_curve.fp_rate)\n",
    "optimal_threshold = df_roc_curve.thresholds[optimal_idx]\n",
    "optimal_threshold"
   ]
  },
  {
   "cell_type": "code",
   "execution_count": 219,
   "metadata": {},
   "outputs": [
    {
     "data": {
      "text/plain": [
       "fp_rate      0.103\n",
       "tp_rate      0.900\n",
       "thresholds   0.292\n",
       "Name: 8, dtype: float64"
      ]
     },
     "execution_count": 219,
     "metadata": {},
     "output_type": "execute_result"
    }
   ],
   "source": [
    "df_roc_curve.iloc[optimal_idx]"
   ]
  },
  {
   "cell_type": "code",
   "execution_count": 223,
   "metadata": {},
   "outputs": [
    {
     "name": "stdout",
     "output_type": "stream",
     "text": [
      "[[38  1]\n",
      " [ 4 16]]\n",
      "              precision    recall  f1-score   support\n",
      "\n",
      "           0       0.90      0.97      0.94        39\n",
      "           1       0.94      0.80      0.86        20\n",
      "\n",
      "    accuracy                           0.92        59\n",
      "   macro avg       0.92      0.89      0.90        59\n",
      "weighted avg       0.92      0.92      0.91        59\n",
      "\n"
     ]
    }
   ],
   "source": [
    "print(confusion_matrix(y_test,y_pred))\n",
    "print(classification_report(y_test,y_pred))"
   ]
  },
  {
   "cell_type": "code",
   "execution_count": 224,
   "metadata": {},
   "outputs": [
    {
     "data": {
      "image/png": "[encoded data removed]",
      "text/plain": [
       "<Figure size 720x432 with 1 Axes>"
      ]
     },
     "metadata": {
      "needs_background": "light"
     },
     "output_type": "display_data"
    }
   ],
   "source": [
    "plot_precision_recall_curve(log_model, X_test_scaled, y_test);"
   ]
  },
  {
   "cell_type": "markdown",
   "metadata": {},
   "source": [
    "## Final Model and Model Deployment"
   ]
  },
  {
   "cell_type": "code",
   "execution_count": 229,
   "metadata": {},
   "outputs": [],
   "source": [
    "scaler = StandardScaler().fit(X)"
   ]
  },
  {
   "cell_type": "code",
   "execution_count": 230,
   "metadata": {},
   "outputs": [],
   "source": [
    "import pickle\n",
    "pickle.dump(scaler, open(\"scaler_tezim\", 'wb'))"
   ]
  },
  {
   "cell_type": "code",
   "execution_count": 231,
   "metadata": {},
   "outputs": [],
   "source": [
    "X_scaled = scaler.transform(X)"
   ]
  },
  {
   "cell_type": "code",
   "execution_count": 232,
   "metadata": {},
   "outputs": [],
   "source": [
    "final_model = LogisticRegression().fit(X_scaled, y)"
   ]
  },
  {
   "cell_type": "code",
   "execution_count": 233,
   "metadata": {},
   "outputs": [],
   "source": [
    "pickle.dump(final_model, open(\"scaler_tezim\", 'wb'))"
   ]
  },
  {
   "cell_type": "code",
   "execution_count": 79,
   "metadata": {},
   "outputs": [],
   "source": [
    "my_dict = {\"age\": [20, 30, 40, 50, 60],\n",
    "           \"physical_score\": [50, 30, 20, 10, 5]}"
   ]
  },
  {
   "cell_type": "code",
   "execution_count": 80,
   "metadata": {},
   "outputs": [
    {
     "data": {
      "text/html": [
       "<div>\n",
       "<style scoped>\n",
       "    .dataframe tbody tr th:only-of-type {\n",
       "        vertical-align: middle;\n",
       "    }\n",
       "\n",
       "    .dataframe tbody tr th {\n",
       "        vertical-align: top;\n",
       "    }\n",
       "\n",
       "    .dataframe thead th {\n",
       "        text-align: right;\n",
       "    }\n",
       "</style>\n",
       "<table border=\"1\" class=\"dataframe\">\n",
       "  <thead>\n",
       "    <tr style=\"text-align: right;\">\n",
       "      <th></th>\n",
       "      <th>age</th>\n",
       "      <th>physical_score</th>\n",
       "    </tr>\n",
       "  </thead>\n",
       "  <tbody>\n",
       "    <tr>\n",
       "      <th>0</th>\n",
       "      <td>20</td>\n",
       "      <td>50</td>\n",
       "    </tr>\n",
       "    <tr>\n",
       "      <th>1</th>\n",
       "      <td>30</td>\n",
       "      <td>30</td>\n",
       "    </tr>\n",
       "    <tr>\n",
       "      <th>2</th>\n",
       "      <td>40</td>\n",
       "      <td>20</td>\n",
       "    </tr>\n",
       "    <tr>\n",
       "      <th>3</th>\n",
       "      <td>50</td>\n",
       "      <td>10</td>\n",
       "    </tr>\n",
       "    <tr>\n",
       "      <th>4</th>\n",
       "      <td>60</td>\n",
       "      <td>5</td>\n",
       "    </tr>\n",
       "  </tbody>\n",
       "</table>\n",
       "</div>"
      ],
      "text/plain": [
       "   age  physical_score\n",
       "0   20              50\n",
       "1   30              30\n",
       "2   40              20\n",
       "3   50              10\n",
       "4   60               5"
      ]
     },
     "execution_count": 80,
     "metadata": {},
     "output_type": "execute_result"
    }
   ],
   "source": [
    "sample = pd.DataFrame(my_dict)\n",
    "sample"
   ]
  },
  {
   "cell_type": "code",
   "execution_count": 81,
   "metadata": {},
   "outputs": [],
   "source": [
    "scaler_hearing = pickle.load(open(\"scaler_hearing\", \"rb\"))"
   ]
  },
  {
   "cell_type": "code",
   "execution_count": 82,
   "metadata": {},
   "outputs": [
    {
     "data": {
      "text/plain": [
       "array([[-2.80075819,  2.11038956],\n",
       "       [-1.91469467, -0.33789511],\n",
       "       [-1.02863115, -1.56203745],\n",
       "       [-0.14256762, -2.78617979],\n",
       "       [ 0.7434959 , -3.39825096]])"
      ]
     },
     "execution_count": 82,
     "metadata": {},
     "output_type": "execute_result"
    }
   ],
   "source": [
    "sample_scaled = scaler_hearing.transform(sample)\n",
    "sample_scaled"
   ]
  },
  {
   "cell_type": "code",
   "execution_count": 83,
   "metadata": {},
   "outputs": [],
   "source": [
    "final_model = pickle.load(open(\"final_model_hearing\", \"rb\"))"
   ]
  },
  {
   "cell_type": "code",
   "execution_count": 84,
   "metadata": {},
   "outputs": [],
   "source": [
    "predictions = final_model.predict(sample_scaled)\n",
    "predictions_proba = final_model.predict_proba(sample_scaled)"
   ]
  },
  {
   "cell_type": "code",
   "execution_count": 85,
   "metadata": {},
   "outputs": [
    {
     "data": {
      "text/html": [
       "<div>\n",
       "<style scoped>\n",
       "    .dataframe tbody tr th:only-of-type {\n",
       "        vertical-align: middle;\n",
       "    }\n",
       "\n",
       "    .dataframe tbody tr th {\n",
       "        vertical-align: top;\n",
       "    }\n",
       "\n",
       "    .dataframe thead th {\n",
       "        text-align: right;\n",
       "    }\n",
       "</style>\n",
       "<table border=\"1\" class=\"dataframe\">\n",
       "  <thead>\n",
       "    <tr style=\"text-align: right;\">\n",
       "      <th></th>\n",
       "      <th>age</th>\n",
       "      <th>physical_score</th>\n",
       "      <th>pred</th>\n",
       "      <th>pred_proba</th>\n",
       "    </tr>\n",
       "  </thead>\n",
       "  <tbody>\n",
       "    <tr>\n",
       "      <th>0</th>\n",
       "      <td>20</td>\n",
       "      <td>50</td>\n",
       "      <td>1</td>\n",
       "      <td>1.000</td>\n",
       "    </tr>\n",
       "    <tr>\n",
       "      <th>1</th>\n",
       "      <td>30</td>\n",
       "      <td>30</td>\n",
       "      <td>1</td>\n",
       "      <td>0.730</td>\n",
       "    </tr>\n",
       "    <tr>\n",
       "      <th>2</th>\n",
       "      <td>40</td>\n",
       "      <td>20</td>\n",
       "      <td>0</td>\n",
       "      <td>0.016</td>\n",
       "    </tr>\n",
       "    <tr>\n",
       "      <th>3</th>\n",
       "      <td>50</td>\n",
       "      <td>10</td>\n",
       "      <td>0</td>\n",
       "      <td>0.000</td>\n",
       "    </tr>\n",
       "    <tr>\n",
       "      <th>4</th>\n",
       "      <td>60</td>\n",
       "      <td>5</td>\n",
       "      <td>0</td>\n",
       "      <td>0.000</td>\n",
       "    </tr>\n",
       "  </tbody>\n",
       "</table>\n",
       "</div>"
      ],
      "text/plain": [
       "   age  physical_score  pred  pred_proba\n",
       "0   20              50     1       1.000\n",
       "1   30              30     1       0.730\n",
       "2   40              20     0       0.016\n",
       "3   50              10     0       0.000\n",
       "4   60               5     0       0.000"
      ]
     },
     "execution_count": 85,
     "metadata": {},
     "output_type": "execute_result"
    }
   ],
   "source": [
    "sample[\"pred\"] = predictions\n",
    "sample[\"pred_proba\"] = predictions_proba[:,1]\n",
    "sample"
   ]
  }
 ],
 "metadata": {
  "kernelspec": {
   "display_name": "Python 3",
   "language": "python",
   "name": "python3"
  },
  "language_info": {
   "codemirror_mode": {
    "name": "ipython",
    "version": 3
   },
   "file_extension": ".py",
   "mimetype": "text/x-python",
   "name": "python",
   "nbconvert_exporter": "python",
   "pygments_lexer": "ipython3",
   "version": "3.8.8"
  }
 },
 "nbformat": 4,
 "nbformat_minor": 4
}
