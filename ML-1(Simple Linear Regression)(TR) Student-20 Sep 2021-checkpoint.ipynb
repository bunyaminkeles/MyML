{
 "cells": [
  {
   "cell_type": "markdown",
   "id": "vocational-shopper",
   "metadata": {},
   "source": [
    "# Simple Linear Regression"
   ]
  },
  {
   "cell_type": "markdown",
   "id": "lesbian-fluid",
   "metadata": {},
   "source": [
    "## Import Library"
   ]
  },
  {
   "cell_type": "code",
   "execution_count": 8,
   "id": "bottom-parish",
   "metadata": {},
   "outputs": [],
   "source": [
    "import numpy as np\n",
    "import pandas as pd\n",
    "import matplotlib.pyplot as plt\n",
    "import seaborn as sns\n",
    "import scipy.stats as stats\n",
    "plt.rcParams[\"figure.figsize\"] = (10,6)\n",
    "import warnings\n",
    "warnings.filterwarnings('ignore')"
   ]
  },
  {
   "cell_type": "markdown",
   "id": "thick-anderson",
   "metadata": {},
   "source": [
    "## Read Dataset"
   ]
  },
  {
   "cell_type": "code",
   "execution_count": null,
   "id": "conceptual-convert",
   "metadata": {},
   "outputs": [],
   "source": []
  },
  {
   "cell_type": "code",
   "execution_count": null,
   "id": "noted-paint",
   "metadata": {},
   "outputs": [],
   "source": []
  },
  {
   "cell_type": "markdown",
   "id": "spectacular-algebra",
   "metadata": {},
   "source": [
    "## Create new independent variable (feature)"
   ]
  },
  {
   "cell_type": "code",
   "execution_count": null,
   "id": "composite-bench",
   "metadata": {},
   "outputs": [],
   "source": []
  },
  {
   "cell_type": "code",
   "execution_count": null,
   "id": "sealed-celebrity",
   "metadata": {},
   "outputs": [],
   "source": []
  },
  {
   "cell_type": "markdown",
   "id": "funky-joseph",
   "metadata": {},
   "source": [
    "## Which feature is more suitable for linear regression?"
   ]
  },
  {
   "cell_type": "code",
   "execution_count": null,
   "id": "neutral-mixer",
   "metadata": {},
   "outputs": [],
   "source": []
  },
  {
   "cell_type": "code",
   "execution_count": null,
   "id": "insured-arena",
   "metadata": {},
   "outputs": [],
   "source": []
  },
  {
   "cell_type": "markdown",
   "id": "regulation-steering",
   "metadata": {},
   "source": [
    "## Plotting the relationship between independent variable and dependent variable "
   ]
  },
  {
   "cell_type": "code",
   "execution_count": null,
   "id": "other-elite",
   "metadata": {},
   "outputs": [],
   "source": []
  },
  {
   "cell_type": "code",
   "execution_count": null,
   "id": "weighted-leeds",
   "metadata": {},
   "outputs": [],
   "source": []
  },
  {
   "cell_type": "markdown",
   "id": "operational-target",
   "metadata": {},
   "source": [
    "## Correlation between independent variable and dependent variable"
   ]
  },
  {
   "cell_type": "code",
   "execution_count": null,
   "id": "naughty-nebraska",
   "metadata": {},
   "outputs": [],
   "source": []
  },
  {
   "cell_type": "code",
   "execution_count": null,
   "id": "allied-judges",
   "metadata": {},
   "outputs": [],
   "source": []
  },
  {
   "cell_type": "markdown",
   "id": "adolescent-mongolia",
   "metadata": {},
   "source": [
    "## Coefficient of determination (R2)"
   ]
  },
  {
   "cell_type": "code",
   "execution_count": null,
   "id": "billion-council",
   "metadata": {},
   "outputs": [],
   "source": []
  },
  {
   "cell_type": "code",
   "execution_count": null,
   "id": "affected-peoples",
   "metadata": {},
   "outputs": [],
   "source": []
  },
  {
   "cell_type": "markdown",
   "id": "perfect-setting",
   "metadata": {},
   "source": [
    "## Splitting the dataset into X(independent variables) and y (dependent variable)"
   ]
  },
  {
   "cell_type": "code",
   "execution_count": null,
   "id": "fatty-notice",
   "metadata": {},
   "outputs": [],
   "source": []
  },
  {
   "cell_type": "code",
   "execution_count": null,
   "id": "bulgarian-motel",
   "metadata": {},
   "outputs": [],
   "source": []
  },
  {
   "cell_type": "markdown",
   "id": "printable-exhaust",
   "metadata": {},
   "source": [
    "## Determination of coefficients (slope and intercept)"
   ]
  },
  {
   "cell_type": "code",
   "execution_count": null,
   "id": "monetary-medication",
   "metadata": {},
   "outputs": [],
   "source": []
  },
  {
   "cell_type": "code",
   "execution_count": null,
   "id": "disabled-musical",
   "metadata": {},
   "outputs": [],
   "source": []
  },
  {
   "cell_type": "markdown",
   "id": "environmental-platform",
   "metadata": {},
   "source": [
    "## Why do we use the least squares error method to find the regression line that best fits the data?"
   ]
  },
  {
   "cell_type": "code",
   "execution_count": null,
   "id": "distinct-helmet",
   "metadata": {},
   "outputs": [],
   "source": []
  },
  {
   "cell_type": "code",
   "execution_count": null,
   "id": "tender-alabama",
   "metadata": {},
   "outputs": [],
   "source": []
  },
  {
   "cell_type": "markdown",
   "id": "steady-desktop",
   "metadata": {},
   "source": [
    "## Prediction with simple linear regression"
   ]
  },
  {
   "cell_type": "code",
   "execution_count": null,
   "id": "collectible-london",
   "metadata": {},
   "outputs": [],
   "source": []
  },
  {
   "cell_type": "code",
   "execution_count": null,
   "id": "incident-accountability",
   "metadata": {},
   "outputs": [],
   "source": []
  },
  {
   "cell_type": "markdown",
   "id": "curious-kinase",
   "metadata": {},
   "source": [
    "## Improving predictions"
   ]
  },
  {
   "cell_type": "code",
   "execution_count": null,
   "id": "black-medium",
   "metadata": {},
   "outputs": [],
   "source": []
  },
  {
   "cell_type": "code",
   "execution_count": null,
   "id": "south-arizona",
   "metadata": {},
   "outputs": [],
   "source": []
  },
  {
   "cell_type": "code",
   "execution_count": null,
   "id": "secondary-chase",
   "metadata": {},
   "outputs": [],
   "source": []
  }
 ],
 "metadata": {
  "kernelspec": {
   "display_name": "Python 3",
   "language": "python",
   "name": "python3"
  },
  "language_info": {
   "codemirror_mode": {
    "name": "ipython",
    "version": 3
   },
   "file_extension": ".py",
   "mimetype": "text/x-python",
   "name": "python",
   "nbconvert_exporter": "python",
   "pygments_lexer": "ipython3",
   "version": "3.8.8"
  }
 },
 "nbformat": 4,
 "nbformat_minor": 5
}
